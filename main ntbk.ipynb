{
 "cells": [
  {
   "cell_type": "code",
   "execution_count": 5,
   "metadata": {},
   "outputs": [],
   "source": [
    "import os\n",
    "os.environ[\"OPENAI_API_KEY\"] = \"OPENAI API KEY\"\n",
    "from sqlalchemy import create_engine, text, select\n",
    "from sqlalchemy import create_engine\n",
    "from langchain_core.messages import AIMessage, SystemMessage\n",
    "import requests\n",
    "from langchain_core.prompts.chat import (\n",
    "    ChatPromptTemplate,\n",
    "    HumanMessagePromptTemplate,\n",
    "    MessagesPlaceholder,\n",
    ")\n",
    "from langchain_community.agent_toolkits.sql.toolkit import SQLDatabaseToolkit\n",
    "from databases import Database\n",
    "from langchain_community.utilities.sql_database import SQLDatabase\n",
    "from langchain_community.agent_toolkits import create_sql_agent\n",
    "from langchain_openai import ChatOpenAI"
   ]
  },
  {
   "cell_type": "code",
   "execution_count": null,
   "metadata": {},
   "outputs": [],
   "source": [
    "'''\n",
    "To create sample data in the form of a sql database, I will be using sqlite to create the database.\n",
    "'''"
   ]
  },
  {
   "cell_type": "code",
   "execution_count": 1,
   "metadata": {},
   "outputs": [
    {
     "name": "stdout",
     "output_type": "stream",
     "text": [
      "Data inserted successfully!\n"
     ]
    }
   ],
   "source": [
    "import sqlite3\n",
    "\n",
    "# Connect to SQLite database (or create it if it doesn't exist)\n",
    "conn = sqlite3.connect('bank_statement.db')\n",
    "cursor = conn.cursor()\n",
    "\n",
    "# Create table\n",
    "cursor.execute('''\n",
    "    CREATE TABLE IF NOT EXISTS bank_statement (\n",
    "        date TEXT,\n",
    "        type TEXT,\n",
    "        description TEXT,\n",
    "        paid_in REAL,\n",
    "        paid_out REAL,\n",
    "        balance REAL\n",
    "    )\n",
    "''')\n",
    "\n",
    "# Data to be inserted\n",
    "data = [\n",
    "    (\"22 Oct 2014\", \"AUTOMATED PAY IN\", \"650274051211-CHB\", 190.40, None, 1803.9),\n",
    "    (\"22 Oct 2014\", \"DIGITAL BANKING\", \"CALL REF NO. 3442, FROM A/C 2222222\", None, 140.00, 1613.5),\n",
    "    (\"24 Oct 2014\", \"Faster Payment\", \"Amazon\", None, 132.30, 1475.3),\n",
    "    (\"24 Oct 2014\", \"BACS\", \"Tebay Trading Co.\", 515.22, None, 1341.2),\n",
    "    (\"25 Oct 2014\", \"Faster Payment\", \"Morrisons Petrol\", None, 80.00, 928.96),\n",
    "    (\"26 Oct 2014\", \"BACS\", \"Business Loan\", 20000.00, None, 745.96),\n",
    "    (\"26 Oct 2014\", \"BACS\", \"James White Media\", 2461.55, None, 20745.98),\n",
    "    (\"27 Oct 2014\", \"Faster Payment\", \"ATM High Street\", 100.00, None, 18584.43),\n",
    "    (\"01 Nov 2014\", \"BACS\", \"Acorn Advertising Studies\", 150.00, None, 18184.43),\n",
    "    (\"01 Nov 2014\", \"BACS\", \"Marriott Hotel\", 177.00, None, 18034.43),\n",
    "    (\"01 Nov 2014\", \"Faster Payment\", \"Abellio Scotrail Ltd\", 122.22, None, 17857.43),\n",
    "    (\"01 Nov 2014\", \"CHQ\", \"Cheque 0000234\", 1200.00, None, 17735.21),\n",
    "    (\"01 Dec 2014\", \"Int. Bank\", \"Interest Paid\", 9.33, None, 17613.21),\n",
    "    (\"01 Dec 2014\", \"DD\", \"OVO Energy\", None, 2470.00, 16564.54),\n",
    "    (\"21 Dec 2014\", \"BACS\", \"Various Payment\", None, 10526.40, 14074.54),\n",
    "    (\"21 Dec 2014\", \"BACS\", \"HMRC\", None, 1000.00, 13048.14),\n",
    "    (\"21 Dec 2014\", \"DD\", \"DVLA\", None, 280.00, 2548.14)\n",
    "]\n",
    "\n",
    "# Insert data into table\n",
    "cursor.executemany('''\n",
    "    INSERT INTO bank_statement (date, type, description, paid_in, paid_out, balance)\n",
    "    VALUES (?, ?, ?, ?, ?, ?)\n",
    "''', data)\n",
    "\n",
    "# Commit changes and close connection\n",
    "conn.commit()\n",
    "conn.close()\n",
    "\n",
    "print(\"Data inserted successfully!\")\n"
   ]
  },
  {
   "cell_type": "code",
   "execution_count": 6,
   "metadata": {},
   "outputs": [],
   "source": [
    "db = SQLDatabase.from_uri(\"sqlite:///bank_statement.db\")\n",
    "llm = ChatOpenAI(model=\"gpt-4-turbo\", temperature=0, streaming=True, verbose=False)\n",
    "top_k = 10\n",
    "toolkit = SQLDatabaseToolkit(llm=llm, db=db)\n",
    "dialect = toolkit.dialect\n",
    "prefix = f\"\"\"You are an agent designed to interact with a SQL database to answer questions.\n",
    "\n",
    "DO NOT use 'multi_tool_use.parallel' tool. multi_tool_use.parallel is not a valid tool, try one of [sql_db_query, sql_db_schema, sql_db_list_tables, sql_db_query_checker].\n",
    "\n",
    "Given an input question, create a syntactically correct {dialect} query to run, then look at the results of the query and return the answer.\n",
    "Unless the user specifies a specific number of examples they wish to obtain, always limit your query to at most {top_k} results.\n",
    "You can order the results by a relevant column to return the most interesting examples in the database.\n",
    "Never query for all the columns from a specific table, only ask for the relevant columns given the question.\n",
    "You have access to tools for interacting with the database.\n",
    "Only use the below tools. Only use the information returned by the below tools to construct your final answer.\n",
    "You MUST double check your query before executing it. If you get an error while executing a query, rewrite the query and try again.\n",
    "\n",
    "DO NOT make any DML statements (CREATE, INSERT, UPDATE, DELETE, DROP etc.) to the database.\n",
    "\n",
    "If the question does not seem related to the database, just return \"I don't know\" as the answer.\n",
    "\"\"\"\n",
    "\n",
    "suffix = f\"\"\"\n",
    "I should look at the tables in the database to see what I can query.  Then I should query the schema of the most relevant tables.\n",
    "\"\"\"\n",
    "\n",
    "messages = [\n",
    "    SystemMessage(content=prefix),\n",
    "    HumanMessagePromptTemplate.from_template(\"{input}\"),\n",
    "    AIMessage(content=suffix),\n",
    "    MessagesPlaceholder(variable_name=\"agent_scratchpad\"),\n",
    "]\n",
    "prompt = ChatPromptTemplate.from_messages(messages)\n",
    "\n",
    "agent_executor = create_sql_agent(\n",
    "    llm, db=db, agent_type=\"openai-tools\", verbose=False, prompt=prompt)"
   ]
  },
  {
   "cell_type": "code",
   "execution_count": 7,
   "metadata": {},
   "outputs": [],
   "source": [
    "query = \"How much did I spend in total?\"\n",
    "response = agent_executor.invoke(query)['output']"
   ]
  },
  {
   "cell_type": "code",
   "execution_count": 8,
   "metadata": {},
   "outputs": [
    {
     "data": {
      "text/plain": [
       "'You have spent a total of $14,628.70.'"
      ]
     },
     "execution_count": 8,
     "metadata": {},
     "output_type": "execute_result"
    }
   ],
   "source": [
    "response"
   ]
  }
 ],
 "metadata": {
  "kernelspec": {
   "display_name": "Python 3",
   "language": "python",
   "name": "python3"
  },
  "language_info": {
   "codemirror_mode": {
    "name": "ipython",
    "version": 3
   },
   "file_extension": ".py",
   "mimetype": "text/x-python",
   "name": "python",
   "nbconvert_exporter": "python",
   "pygments_lexer": "ipython3",
   "version": "3.11.4"
  }
 },
 "nbformat": 4,
 "nbformat_minor": 2
}
